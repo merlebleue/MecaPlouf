{
 "cells": [
  {
   "cell_type": "markdown",
   "id": "graduate-spanish",
   "metadata": {},
   "source": [
    "# Examen intermédiaire 2021\n",
    "\n",
    "Julien (Marie F) Ars (314 545) - 7 juin 2021"
   ]
  },
  {
   "cell_type": "code",
   "execution_count": 127,
   "id": "automatic-mainstream",
   "metadata": {},
   "outputs": [],
   "source": [
    "import numpy as np\n",
    "import matplotlib.pyplot as plt\n",
    "from scipy.integrate import odeint\n",
    "from matplotlib.ticker import (MaxNLocator, MultipleLocator, AutoMinorLocator)"
   ]
  },
  {
   "cell_type": "markdown",
   "id": "incomplete-penetration",
   "metadata": {},
   "source": [
    "## Données générales"
   ]
  },
  {
   "cell_type": "markdown",
   "id": "fundamental-afghanistan",
   "metadata": {},
   "source": [
    "Un canal en béton armé transporte de l’eau avec un débit $Q = 100 L/s$.\n",
    "Il a une pente de $i = 1\\%$. Il a une section rectangulaire de hauteur $1 m$ et\n",
    "de largeur $W = 50 cm$. En un point $A$ – ici de coordonnées $(0, 0)$ dans le\n",
    "repère $Axy$ de la figure 1 – il y a un ouvrage-fente (slit dam) : il s’agit d’un\n",
    "mur droit qui occupe toute la largeur du canal. Une fente le parcourt sur\n",
    "toute sa hauteur ; elle a une largeur $b = 10cm$ et elle est centrée par rapport à l’axe\n",
    "du canal (voir figure 1). Au pied de la fente (côté aval), il y a une marche\n",
    "verticale de pelle $p$. Le canal continue avec la même pente. Le coefficient de\n",
    "Manning-Strickler du béton est $K = 55 m^{1/3}/s$."
   ]
  },
  {
   "cell_type": "code",
   "execution_count": 2,
   "id": "chinese-neutral",
   "metadata": {},
   "outputs": [],
   "source": [
    "#Encodage des données en python\n",
    "Q = 100e-3 #conversion L/s en m³/s\n",
    "i=1e-2 #1%\n",
    "W=50e-2 #conversion cm en m\n",
    "K = 55 #m^(1/3)/s\n",
    "b= 10e-2 #m\n",
    "g = 9.81 #m / s^2\n",
    "rho = 1e3 #kg / m^3"
   ]
  },
  {
   "cell_type": "markdown",
   "id": "cordless-designation",
   "metadata": {},
   "source": [
    "L’eau arrive par la droite sur la figure 1(a). Compte tenu de la pente,\n",
    "on suppose en première approximation que le régime est supercritique dans\n",
    "la partie amont du bief. Le passage de la fente conduit à un ralentissement\n",
    "significatif de l’écoulement. Le régime est attendu être subcritique à l’amont\n",
    "immédiat de la fente. De ce fait, on suppose qu’il se forme un ressaut hydraulique noté $BC$ sur la figure 1. Compte tenu du fort rétrécissement et de\n",
    "la marche, l’écoulement est supposé devenir critique au point A. (Par commodité de notation, on pourra appeler $A’$ le point $A$ quand il est dans la\n",
    "fente de largeur $b$, et garder la notation A quand il est du côté du canal avec\n",
    "une largeur $W$). En résumé, une analyse simplifiée conduit à considérer qu’en\n",
    "première approximation, lorsque l’on va de l’amont vers l’aval (de la droite\n",
    "vers la gauche sur la figure 1(a)), on a un écoulement permanent uniforme\n",
    "entre $D$ et $C$, puis un ressaut entre $C$ et $B$, et enfin une zone d’écoulement\n",
    "subcritique avec une surface libre horizontale.\n"
   ]
  },
  {
   "cell_type": "markdown",
   "id": "proof-mention",
   "metadata": {},
   "source": [
    "<img src=\"figure 1.png\" alt=\"Drawing\" style=\"width: 600px;\"/>\n"
   ]
  },
  {
   "cell_type": "markdown",
   "id": "juvenile-victorian",
   "metadata": {},
   "source": [
    "## Problème 1 :"
   ]
  },
  {
   "cell_type": "markdown",
   "id": "documentary-compromise",
   "metadata": {},
   "source": [
    "On s’intéresse au comportement hydraulique de l’ouvrage. Dans un\n",
    "premier temps (pour tout ce problème), on néglige les effets des parois\n",
    "latérales, et on suppose donc que le rayon hydraulique $R_h$ varie comme\n",
    "la hauteur d’eau $h$ dans le canal. On néglige les pertes de charge au\n",
    "passage de la fente."
   ]
  },
  {
   "cell_type": "markdown",
   "id": "white-timeline",
   "metadata": {},
   "source": [
    "***\n",
    "\n",
    "**(1)** Si l’écoulement est critique au passage de la fente (en $A'$), montrer que la charge spécifique en $A'$ : $$H_S = \\frac{3}{2} * \\sqrt[3]{\\frac{Q^2}{gb^2}}$$"
   ]
  },
  {
   "cell_type": "markdown",
   "id": "rolled-provider",
   "metadata": {},
   "source": [
    "**Réponse :**"
   ]
  },
  {
   "cell_type": "markdown",
   "id": "adapted-camcorder",
   "metadata": {},
   "source": [
    "Si l'écoulement est critique en $A'$, on a que $Fr = 1$. Ce qui donne : $$\\frac{u}{\\sqrt{gh}} = 1 \\Rightarrow h = \\frac{u^2}{g}$$\n",
    "Par ailleurs, on a que $u = \\frac{Q}{S}$, avec $S = bh = b\\frac{u^2}{g}$. On en déduit : $$u=\\frac{Qg}{bu^2} \\Rightarrow u^3 = \\frac{Qg}{b}$$\n",
    "\n",
    "Il en ressort que la Hauteur Spécifique, $H_S = h + \\frac{u^2}{2g}$ vaut en $A'$ : $$H_{S,A'} = h + \\frac{u^2}{2g} = \\frac{3}{2}\\frac{u^2}{g} = \\frac{3}{2g} \\left ( \\frac{Q^2g^2}{b^2} \\right )^{3/2} = \\frac{3}{2} \\sqrt[3]{\\frac{Q^2}{b^2g}}$$"
   ]
  },
  {
   "cell_type": "markdown",
   "id": "bored-profession",
   "metadata": {},
   "source": [
    "***\n",
    "**(2)**  Calculer la hauteur normale dans le bief amont (on suppose que\n",
    "$h_n = h_C = h_D$) avec l’hypothèse d’un canal infiniment large.\n",
    "\n",
    "**Réponse :**"
   ]
  },
  {
   "cell_type": "markdown",
   "id": "ordinary-classroom",
   "metadata": {},
   "source": [
    "Dans le cas d'un canal infiniment large, on peut appliquer la formule : $$h_n = \\left ( \\frac{q}{K\\sqrt{i}} \\right )^{3/5}$$"
   ]
  },
  {
   "cell_type": "markdown",
   "id": "incredible-military",
   "metadata": {},
   "source": [
    "Ce qui donne dans notre cas, avec $q = \\frac{Q}{W}$ : $$h_{n, amont} = \\left ( \\frac{Q}{WK\\sqrt{i}} \\right )^{3/5}$$"
   ]
  },
  {
   "cell_type": "markdown",
   "id": "waiting-government",
   "metadata": {},
   "source": [
    "*Application numérique :*"
   ]
  },
  {
   "cell_type": "code",
   "execution_count": 3,
   "id": "understanding-reservoir",
   "metadata": {},
   "outputs": [
    {
     "name": "stdout",
     "output_type": "stream",
     "text": [
      "Hauteur normale en amont : 14 cm\n"
     ]
    }
   ],
   "source": [
    "h_n_amont = (Q/(W*K*i**0.5))**0.6\n",
    "print(f\"Hauteur normale en amont : {h_n_amont*100:.1f} cm\")"
   ]
  },
  {
   "cell_type": "markdown",
   "id": "bigger-desire",
   "metadata": {},
   "source": [
    "***\n",
    "**(3)** Calculer la hauteur du ressaut $h_B$ en $B$ (qui est la hauteur conjuguée de $h_C$)\n",
    "\n",
    "**Réponse :**"
   ]
  },
  {
   "cell_type": "markdown",
   "id": "southwest-mambo",
   "metadata": {},
   "source": [
    "On décide d'appliquer la formule suivante : $$\\frac{h_B}{h_{amont}} = \\frac{1}{2} \\left ( \\sqrt{1+ 8Fr_1^2}-1 \\right ) $$\n",
    "\n",
    "En effet, les conditions sont réunies pour qu'elle soit applicable :\n",
    "* le fond est peu rugueux et de pente négligeable\n",
    "* l'écoulement est permanent (avec $q=Q/W$), unidirectionnel\n",
    "* Le ressaut est immobile\n",
    "* La pression est hydrostatique loin du ressaut\n",
    "* Le profil de vitesse est uniforme\n",
    "* L'effet des parois est négligé (on néglige le frottement $\\tau_p$)\n",
    "\n",
    "On a donc ($h_{amont} = h_{n, amont}$ car l'écoulement y est permanent uniforme): $$h_B = \\frac{h_{n,amont}}{2} \\left ( \\sqrt{1+ 8Fr_1^2}-1 \\right ) $$\n",
    "\n",
    "Le nombre de Froude se calcule avec la formule suivante : $$Fr_1 = \\frac{u}{\\sqrt{gh}} = \\frac{q}{\\sqrt{gh_{amont}^3}}$$\n",
    "\n",
    "*Application numérique :*"
   ]
  },
  {
   "cell_type": "code",
   "execution_count": 4,
   "id": "tired-cornwall",
   "metadata": {},
   "outputs": [
    {
     "name": "stdout",
     "output_type": "stream",
     "text": [
      "Fr_1 = 1.3 et h_B = 19 cm\n"
     ]
    }
   ],
   "source": [
    "q= Q/W\n",
    "Fr_1 = q / (g * h_n_amont**3)**0.5\n",
    "h_B = h_n_amont / 2 * ((1+8*Fr_1**2)**0.5 - 1)\n",
    "print(f\"Fr_1 = {Fr_1:.2f} et h_B = {h_B*100:.1f} cm\")"
   ]
  },
  {
   "cell_type": "markdown",
   "id": "obvious-signature",
   "metadata": {},
   "source": [
    "***\n",
    "**(4)** Calculer la hauteur d’eau juste en amont de la fente (au point A, avant le passage à la hauteur critique)\n",
    "\n",
    "**Réponse :**"
   ]
  },
  {
   "cell_type": "markdown",
   "id": "respective-correlation",
   "metadata": {},
   "source": [
    "Etant donné que les pertes de charges au niveau de la fente sont négligées dans cet exo, nous avons que la charge totale est constante entre $A$ (juste avant la fente) et $A'$ (dans la fente). Considérant que ces deux points se trouvent à la même altitude $z$, nous avons une charge spécifique constante : $$H_{S, A} = H_{S, A'}$$ \n",
    "\n",
    "Nous avons montré en **(1)** que $H_{S,A'} = \\frac{3}{2} * \\sqrt[3]{\\frac{Q^2}{gb^2}}$.\n",
    "\n",
    "Pour le point $A$, nous avons : $$H_{S, A} = h_A + \\frac{u_A^2}{2g}$$\n",
    "\n",
    "Avec $u_A = \\frac{Q}{Wh_A}$ : $$h_A = H_{S, A'} - \\frac{Q^2}{2gW^2h_A^2} = \\frac{3}{2} * \\sqrt[3]{\\frac{Q^2}{gb^2}} - \\frac{Q^2}{2gW^2h_A^2}$$\n",
    "\n",
    "Nous résolvons cela par itération (*Application numérique*) :"
   ]
  },
  {
   "cell_type": "code",
   "execution_count": 169,
   "id": "level-think",
   "metadata": {},
   "outputs": [
    {
     "name": "stdout",
     "output_type": "stream",
     "text": [
      "Hauteur en A (juste en amont de la fente) : 69.7 cm\n"
     ]
    }
   ],
   "source": [
    "h_A = h_n_amont\n",
    "diff = 10\n",
    "while diff >1e-5:\n",
    "    prev = h_A\n",
    "    h_A = 3/2 * (Q**2/g/b**2)**(1/3) - Q**2 / (2*g*W**2*h_A**2)\n",
    "    diff = np.abs(prev-h_A)\n",
    "print(f\"Hauteur en A (juste en amont de la fente) : {h_A*100:.1f} cm\")"
   ]
  },
  {
   "cell_type": "markdown",
   "id": "ceramic-identification",
   "metadata": {},
   "source": [
    "***\n",
    "**(5)** Tracer les courbes de charge spécifique $H_s(h)$ pour l’écoulement\n",
    "dans le canal et celle à travers la fente. Positionner les points A, B, C,\n",
    "et D. En déduire la position du ressaut. "
   ]
  },
  {
   "cell_type": "markdown",
   "id": "alive-intermediate",
   "metadata": {},
   "source": [
    "**Réponse :**\n",
    "\n",
    "Avec $H_* = \\frac{H_S}{h_c}$ et $\\xi = \\frac{h}{h_c}$, nous savons que (résultat du cours): $$H_* = \\xi + \\frac{1}{2\\xi^2}$$\n",
    "\n",
    "De plus, nous avons $h_c = \\left [ h \\right ]_{Fr = 1} = \\sqrt[3]{\\frac{q^2}{g}}$ (section rectangulaire, voir question **(1)** pour détail des calculs), et donc : $$ h_{c, canal} = \\sqrt[3]{\\frac{Q^2}{W^2g}} $$ $$ h_{c, fente} = \\sqrt[3]{\\frac{Q^2}{b^2g}}$$\n",
    "\n",
    "*Application numérique :*"
   ]
  },
  {
   "cell_type": "code",
   "execution_count": 6,
   "id": "neural-assault",
   "metadata": {},
   "outputs": [
    {
     "name": "stdout",
     "output_type": "stream",
     "text": [
      "Hauteurs critiques : \n",
      "Canal : 16 cm \t Fente : 47 cm\n"
     ]
    }
   ],
   "source": [
    "#Calcul des hauteurs critiques\n",
    "h_c_canal = (Q**2 / W**2 / g)**(1/3)\n",
    "h_c_fente = (Q**2 / b**2 / g)**(1/3)\n",
    "print(f\"Hauteurs critiques : \\nCanal : {h_c_canal*100:.1f} cm \\t Fente : {h_c_fente*100:.1f} cm\")"
   ]
  },
  {
   "cell_type": "markdown",
   "id": "operating-vacuum",
   "metadata": {},
   "source": [
    "*Graphiques :*"
   ]
  },
  {
   "cell_type": "raw",
   "id": "tired-situation",
   "metadata": {},
   "source": [
    "#imports pour les graphiques\n",
    "from Examen2021inter.helpers import plot_h_S, get_H_S, plot_points #code en annexe, fonctions définies à part pour dégager le code"
   ]
  },
  {
   "cell_type": "code",
   "execution_count": 9,
   "id": "everyday-liability",
   "metadata": {},
   "outputs": [
    {
     "name": "stderr",
     "output_type": "stream",
     "text": [
      "<ipython-input-8-09f6dd9cbbef>:21: MatplotlibDeprecationWarning: Adding an axes using the same arguments as a previous axes currently reuses the earlier instance.  In a future version, a new instance will always be created and returned.  Meanwhile, this warning can be suppressed, and the future behavior ensured, by passing a unique label to each axes instance.\n",
      "  plt.subplot(subplot)\n"
     ]
    },
    {
     "name": "stdout",
     "output_type": "stream",
     "text": [
      "Point A : \th: 70 cm, Charge spécifique H_S : 70 cm\n",
      "Point B : \th: 19 cm, Charge spécifique H_S : 24 cm\n",
      "Point C et D : \th: 14 cm, Charge spécifique H_S : 25 cm\n",
      "\n",
      "Point A' (hauteur critique) : \th: 47 cm, Charge spécifique H_S : 70 cm\n",
      "\n"
     ]
    },
    {
     "data": {
      "image/png": "[encoded data removed]",
      "text/plain": [
       "<Figure size 576x576 with 1 Axes>"
      ]
     },
     "metadata": {
      "needs_background": "light"
     },
     "output_type": "display_data"
    }
   ],
   "source": [
    "plt.figure(figsize = (8,8))\n",
    "\n",
    "# Courbes\n",
    "plot_h_S(h_c_canal, \"canal\",  subplot = 111)\n",
    "plot_h_S(h_c_fente, \"fente\", subplot = 111)\n",
    "\n",
    "# Points\n",
    "h_C = h_n_amont\n",
    "h_D = h_n_amont\n",
    "plot_points([h_A, h_B, h_C], [\"A\", \"B\", \"C et D\"], h_c_canal)\n",
    "plot_points([h_c_fente], [\"A' (hauteur critique)\"], h_c_fente)\n",
    "\n",
    "plt.show()"
   ]
  },
  {
   "cell_type": "markdown",
   "id": "premier-warehouse",
   "metadata": {},
   "source": [
    "Pour obtenir la position du ressaut, nous allons utiliser le fait que la surface libre est horizontale entre B et A\n",
    "\n",
    "Cela donne : $$z_A + h_A = z_B + h_b$$\n",
    "\n",
    "Ainsi, $$\\Delta_{_{AB}} z = z_B - z_A = h_A - h_B$$\n",
    "\n",
    "On utilise ensuite la pente $i$ du fond pour en déduire la position du ressaut $x_{ressaut}$ : $$x_{ressaut} = i^{-1} * \\Delta_{_{AB}} z = i^{-1} * \\left ( h_A - h_B \\right )$$\n",
    "\n",
    "*Application numérique :*"
   ]
  },
  {
   "cell_type": "code",
   "execution_count": 10,
   "id": "universal-college",
   "metadata": {},
   "outputs": [
    {
     "name": "stdout",
     "output_type": "stream",
     "text": [
      "Position du ressaut : \t x = 51 m\n"
     ]
    }
   ],
   "source": [
    "x_ressaut = i**-1 * (h_A - h_B)\n",
    "print(f\"Position du ressaut : \\t x = {x_ressaut:.1f} m\")"
   ]
  },
  {
   "cell_type": "markdown",
   "id": "assigned-health",
   "metadata": {},
   "source": [
    "***\n",
    "\n",
    "**(6)** Est-ce qu’il existe un débit minimal au-dessous duquel aucun\n",
    "ressaut ne se forme ?"
   ]
  },
  {
   "cell_type": "markdown",
   "id": "naked-level",
   "metadata": {},
   "source": [
    "Pour pouvoir visualiser plus facilement le problème, nous réprésentons la courbe du niveau d'eau en fonction de x :"
   ]
  },
  {
   "cell_type": "code",
   "execution_count": 11,
   "id": "micro-proposition",
   "metadata": {},
   "outputs": [
    {
     "data": {
      "image/png": "[encoded data removed]",
      "text/plain": [
       "<Figure size 864x216 with 1 Axes>"
      ]
     },
     "metadata": {
      "needs_background": "light"
     },
     "output_type": "display_data"
    }
   ],
   "source": [
    "draw_h(figsize = (12,3))"
   ]
  },
  {
   "cell_type": "markdown",
   "id": "intimate-killer",
   "metadata": {},
   "source": [
    "On observe que pour éviter un ressaut, il faudrait que $h(x)$ ne dépasse pas la hauteur critique du canal. Or, la hauteur d'eau au point A dépend de la condition au point $A'$"
   ]
  },
  {
   "cell_type": "markdown",
   "id": "cognitive-nursery",
   "metadata": {},
   "source": [
    "***\n",
    "***\n",
    "\n",
    "## Problème 2 :\n",
    "\n",
    "**(1)** En vous inspirant de ce qui a été fait en cours pour le seuil mince, montrer qu’en l’absence de pertes de charge, le débit à travers la fente est :\n",
    "\n",
    "$$Q = \\left ( \\frac{2}{3} h_A \\right )^{3/2} b \\sqrt{g}$$\n",
    "\n",
    "**Réponse :**\n",
    "\n",
    "Nous avons montré dans le problème 1 que :$$H_{S, A'} = \\frac{3}{2} * \\sqrt[3]{\\frac{Q^2}{gb^2}}$$ \n",
    "\n",
    "En l'absence de pertes de charge, nous avons : $$H_A = H_{A'} = H_{S, A'} + z_{A'}$$\n",
    "\n",
    "Avec $z_{A'} = 0$, nous découlons des deux premières équations : $$ Q = \\left ( \\frac{2}{3} H_A \\right )^{3/2} b \\sqrt{g}$$\n",
    "\n",
    "Par définition, on a : $$ H_A = h_A + \\frac{u_A^2}{2g} $$\n",
    "\n",
    "La présence de la fente va ralentir l'eau, au point que $u_A \\ll h_A$. On  a alors : $$H_A \\approx h_A$$\n",
    "\n",
    "On en conclut :\n",
    "$$ Q = \\left ( \\frac{2}{3} h_A \\right )^{3/2} b \\sqrt{g}$$"
   ]
  },
  {
   "cell_type": "markdown",
   "id": "helpful-equality",
   "metadata": {},
   "source": [
    "***\n",
    "\n",
    "**(2)** Pour prendre en compte les pertes de charge, on introduit un\n",
    "coefficient de débit $C_d$ tel que : \n",
    "\n",
    "$$ Q = \\frac{2}{3} C_d \\sqrt{2g} b h_A^{3/2}$$\n",
    "\n",
    "Faire une analyse dimensionnelle et établir la dépendance de $C_d$ vis-à-vis des groupes adimensionnels importants du problème."
   ]
  },
  {
   "cell_type": "markdown",
   "id": "incoming-fiction",
   "metadata": {},
   "source": [
    "**Réponse :**\n",
    "\n",
    "On note $L$ les unités de longueur, $M$ les unités de masse, $T$ les unités de temps.\n",
    "\n",
    "On décompose les variables :\n",
    "$$Q \\rightarrow L^3 T^{-1}$$\n",
    "$$g \\rightarrow L^2 T^{-2}$$\n",
    "$$b \\rightarrow L$$\n",
    "$$h_A \\rightarrow L$$\n",
    "$C_d$ étant adimensionel.\n",
    "\n",
    "Soit $$\\Phi(\\pi_1,\\pi_2) = Q^\\alpha g^\\beta b^\\gamma h_A^\\delta \\rightarrow L^{3\\alpha + 2\\beta + \\gamma + \\delta} * M^{0} * T^{-\\alpha - 2 \\beta}$$\n",
    "\n",
    "On a donc comme équations : $$3\\alpha + 2\\beta + \\gamma + \\delta = 0$$\n",
    "$$\\alpha + 2\\beta = 0$$\n",
    "\n",
    "On cherche 2 groupes adimentionnels satisfant ces deux équations. On prend :\n",
    "$$\\pi_1 = \\left \\{ \\begin{array} \\\\\n",
    "      \\alpha = 1 \\\\\n",
    "      \\beta = -1/2 \\\\\n",
    "      \\gamma =-1/2 \\\\\n",
    "      \\delta = -3/2\n",
    "    \\end{array} \\right \\} = \\frac{Q}{b\\sqrt{gh_A^3}} = Fr$$\n",
    "$$\\pi_2 = \\left \\{ \\begin{array} \\\\\n",
    "      \\alpha = 0\\\\\n",
    "      \\beta = 0\\\\\n",
    "      \\gamma = -1\\\\\n",
    "      \\delta = 1\n",
    "    \\end{array} \\right \\} = \\frac{h_A}{b}$$\n",
    "\n",
    "Observons que $C_d$ s'exprime comme :\n",
    "$$ C_d = \\frac{3}{2^{3/2}} Q g^{-1/2} b^{-1} h_A^{-3/2} = \\frac{3}{2^{3/2}} Fr$$"
   ]
  },
  {
   "cell_type": "markdown",
   "id": "specified-outline",
   "metadata": {},
   "source": [
    "**Suite de l'énoncé :** Une étude expérimentale montre que $$C_d = 0,562 + \\frac{10}{Re^{0,45}}$$ Où $Re =\\frac{\\sqrt{2gh}b}{\\nu}$ est le nombre de Reynolds, et $\\nu = 10^{−6} m^2 $ la viscosité cinématique de l’eau. En déduire le hauteur d’eau $h_A$ juste à l’amont de la fente."
   ]
  },
  {
   "cell_type": "markdown",
   "id": "german-racing",
   "metadata": {},
   "source": [
    "**Réponse :**\n",
    "\n",
    "On obtient alors:\n",
    "$$\n",
    "C_d = 0,562 + \\frac{10}{Re^{0,45}} = 0,562 + 10 * \\left ( \\frac{\\nu}{\\sqrt{2gh_A}b} \\right )^{0,45}$$\n",
    "\n",
    "Il faudra donc calculer $h_A$ par itération :\n",
    "\n",
    "$$h_A = \\left ( \\frac{3}{2} \\frac{Q}{C_d b \\sqrt{2g}} \\right )^{2/3}$$\n",
    "\n",
    "*Application Numérique :*"
   ]
  },
  {
   "cell_type": "code",
   "execution_count": 15,
   "id": "speaking-satisfaction",
   "metadata": {},
   "outputs": [
    {
     "name": "stdout",
     "output_type": "stream",
     "text": [
      "Hauteur en A: 68.8 cm\n"
     ]
    }
   ],
   "source": [
    "nu = 1e-6 #m²\n",
    "\n",
    "diff = 10\n",
    "h_A_2 = 1\n",
    "while diff>1e-5:\n",
    "    prev = h_A\n",
    "    \n",
    "    Cd = 0.562 + 10*(nu /(2*g*h_A_2)**0.5 /b)**0.45\n",
    "    h_A_2 = (3/2 * Q / Cd /b /(2*g)**0.5)**(2/3)\n",
    "    \n",
    "    diff = np.abs(prev - h_A_2)\n",
    "    \n",
    "print(f\"Hauteur en A: {h_A_2*100:.1f} cm\")"
   ]
  },
  {
   "cell_type": "code",
   "execution_count": 16,
   "id": "biblical-recruitment",
   "metadata": {},
   "outputs": [
    {
     "name": "stdout",
     "output_type": "stream",
     "text": [
      "Cd : 0.593\n"
     ]
    }
   ],
   "source": [
    "print(f\"Cd : {Cd:.3f}\")"
   ]
  },
  {
   "cell_type": "markdown",
   "id": "according-harvard",
   "metadata": {},
   "source": [
    "***\n",
    "\n",
    "**(3)** Calculer les hauteurs normale et critique le long du bief CD\n",
    "en prenant en compte les parois latérales du canal. Dans quel régime\n",
    "d’écoulement est-on ?"
   ]
  },
  {
   "cell_type": "markdown",
   "id": "useful-intro",
   "metadata": {},
   "source": [
    "**Réponse :**\n",
    "\n",
    "Pour la hauteur critique, on peut réutiliser la valeur du problème 1. En effet, les parois latérales ne l'influencent pas."
   ]
  },
  {
   "cell_type": "code",
   "execution_count": 17,
   "id": "chief-marriage",
   "metadata": {},
   "outputs": [
    {
     "name": "stdout",
     "output_type": "stream",
     "text": [
      "Hauteur critique CD : 16.0 cm\n"
     ]
    }
   ],
   "source": [
    "print(f\"Hauteur critique CD : {h_c_canal*100:.1f} cm\")"
   ]
  },
  {
   "cell_type": "markdown",
   "id": "aggregate-module",
   "metadata": {},
   "source": [
    "Si l'on prend en compte les parois latérales, on ne peut plus approximer $R_H \\approx h$. On obtient pour le périmètre et la surface mouillés :\n",
    "\n",
    "$$ \\chi = \\left ( W + 2h_n \\right ) \\text{ et } S = W * h_n $$\n",
    "\n",
    "Ce qui donne $$R_H = \\frac{S}{\\chi} = \\frac{W*h_n}{\\left ( W + 2h_n \\right )}$$\n",
    "\n",
    "On obtient alors comme équation pour la hauteur normale : \n",
    "$$\n",
    "Q = K*R_H^{2/3}*\\sqrt{i}*S = K * W^{5/3} * \\sqrt{i} * \\frac{h_n^{5/3}}{\\left (  2h_n + W \\right )^{2/3} }\n",
    "$$\n",
    "\n",
    "Que l'on peut réécrire comme :\n",
    "$$\n",
    "\\left ( 2h_n + W \\right )^{2/3} * Q = K * W^{5/3} * \\sqrt{i} * h_n^{5/3}\n",
    "$$"
   ]
  },
  {
   "cell_type": "markdown",
   "id": "passive-microwave",
   "metadata": {},
   "source": [
    "On a finalement :\n",
    "$$\n",
    "h_n = \\left [ \\frac{Q}{KW^{5/3}\\sqrt{i}} \\left ( 2h_n + W \\right )^{2/3} \\right ]^{3/5}\n",
    "$$\n",
    "\n",
    "*Application Numérique :*"
   ]
  },
  {
   "cell_type": "code",
   "execution_count": 18,
   "id": "absolute-identity",
   "metadata": {},
   "outputs": [
    {
     "name": "stdout",
     "output_type": "stream",
     "text": [
      "Hauteur normale sur CD : 16.8 cm\n"
     ]
    }
   ],
   "source": [
    "h_n_2 = 5\n",
    "diff = 10\n",
    "\n",
    "while diff > 1e-5:\n",
    "    prev = h_n_2\n",
    "    \n",
    "    #h_n = 1/2 * K**1.5 * W**2.5 * i**0.75 * h_n**2.5 / Q**1.5 - W / 2\n",
    "    h_n_2 = (Q /K /W**(5/3) /i**0.5 * (2*h_n_2 + W)**(2/3))**(3/5)\n",
    "    \n",
    "    diff = np.abs(prev-h_n_2)\n",
    "    \n",
    "print(f\"Hauteur normale sur CD : {h_n_2*100:.1f} cm\")"
   ]
  },
  {
   "cell_type": "markdown",
   "id": "stretch-mexican",
   "metadata": {},
   "source": [
    "***\n",
    "\n",
    "**(4)**  Calculer la hauteur d’eau du ressaut $h_B$\n",
    "\n",
    "**Réponse :**\n",
    "\n",
    "Observons que la hauteur normale est plus grande que la hauteur critique. Nous sommes donc déjà en régime subcritique, il n'y a pas lieu d'avoir un ressaut. En effet, $$Fr = \\frac{u}{\\sqrt{gh}} < 1$$"
   ]
  },
  {
   "cell_type": "code",
   "execution_count": 21,
   "id": "unexpected-devon",
   "metadata": {},
   "outputs": [
    {
     "name": "stdout",
     "output_type": "stream",
     "text": [
      "Fr = 0.93 et h_B = 16.8 cm\n"
     ]
    }
   ],
   "source": [
    "q= Q/W\n",
    "Fr_2 = q / (g * h_n_2**3)**0.5\n",
    "h_B_2 = h_n_2\n",
    "print(f\"Fr = {Fr_2:.2f} et h_B = {h_B_2*100:.1f} cm\")"
   ]
  },
  {
   "cell_type": "markdown",
   "id": "strong-cologne",
   "metadata": {},
   "source": [
    "***\n",
    "\n",
    "**(5) et (6)**  Résoudre numériquement l’équation de la courbe de remous dans le canal et la tracer. Comparer avec celle idéalisée au\n",
    "problème 1."
   ]
  },
  {
   "cell_type": "markdown",
   "id": "celtic-regard",
   "metadata": {},
   "source": [
    "**Résolution :**\n",
    "\n",
    "L'équation de la courbe de remous est la suivante : $$ \\frac{\\mathrm{d}h_n}{\\mathrm{d}x} = i * \\frac{1- \\left ( \\frac{h_n}{h} \\right )^{10/3}}{1- \\left ( \\frac{h_c}{h} \\right )^{3}} $$\n",
    "\n",
    "*Résolution numérique (en python) :*"
   ]
  },
  {
   "cell_type": "code",
   "execution_count": 68,
   "id": "educational-dietary",
   "metadata": {},
   "outputs": [],
   "source": [
    "def eq(h, x):\n",
    "    return - i * (1-(h_n_2/h)**(10/3)) / (1-(h_c_canal/h)**(3))\n",
    "\n",
    "x = np.linspace(0,80,10000)\n",
    "\n",
    "h2 = odeint(eq, [h_A_2], x).flatten() "
   ]
  },
  {
   "cell_type": "code",
   "execution_count": 69,
   "id": "incredible-turkish",
   "metadata": {},
   "outputs": [
    {
     "data": {
      "image/png": "[encoded data removed]",
      "text/plain": [
       "<Figure size 1080x432 with 1 Axes>"
      ]
     },
     "metadata": {
      "needs_background": "light"
     },
     "output_type": "display_data"
    }
   ],
   "source": [
    "draw_h2(x, h2, figsize = (15, 6))"
   ]
  },
  {
   "cell_type": "markdown",
   "id": "patent-pantyhose",
   "metadata": {},
   "source": [
    "***\n",
    "***\n",
    "\n",
    "## Problème 3 : Forces qui s'exercent sur la fente\n",
    "\n",
    "**Question (1)** Calculer la pression hydrostatique sur chacune des deux ailes de la fente en supposant que la hauteur d’eau est uniforme le long de la section et vaut $h_A$. Faire l’application numérique.\n",
    "\n"
   ]
  },
  {
   "cell_type": "markdown",
   "id": "humanitarian-monkey",
   "metadata": {},
   "source": [
    "**Réponse :**\n",
    "\n",
    "La pression hydrostatique en un point vaut $p_h = \\rho * g *h$, avec $h$ la profondeur de ce point. En intégrant sur la surface des deux ailes de la fente, on a :\n",
    "$$\n",
    "P_h = \\int_0^{W-b} \\int_0^{h_A} \\rho *g *h \\ dh \\ dx = \\frac{1}{2} * \\rho * g * h_A^2 * \\left ( W - b \\right )\n",
    "$$"
   ]
  },
  {
   "cell_type": "code",
   "execution_count": 33,
   "id": "insured-madonna",
   "metadata": {},
   "outputs": [
    {
     "name": "stdout",
     "output_type": "stream",
     "text": [
      "Pression hydrostatique en A : P_h = 929 N\n"
     ]
    }
   ],
   "source": [
    "P_h_A = rho * g * h_A**2 * (W-b)/2\n",
    "print(f\"Pression hydrostatique en A : P_h = {P_h_A:.0f} N\")"
   ]
  },
  {
   "cell_type": "markdown",
   "id": "mathematical-causing",
   "metadata": {},
   "source": [
    "*** \n",
    "\n",
    "**Question (2)** Considérer un volume de contrôle entre A et B. On suppose\n",
    "que la hauteur et la vitesse moyenne sont uniformément constantes\n",
    "pour la section en B. Au point A, la vitesse varie fortement au passage\n",
    "de la fente. On a fait des mesures de la composante $u$ selon **~x~ z** de la\n",
    "vitesse près de la fente. Les données sont accessibles à partir du fichier\n",
    "`profil_vitesse_z.txt`. Tracer le profil de vitesse $u$ pour les sections\n",
    "A et B."
   ]
  },
  {
   "cell_type": "markdown",
   "id": "expanded-cardiff",
   "metadata": {},
   "source": [
    "**Réponse (Python) :**"
   ]
  },
  {
   "cell_type": "code",
   "execution_count": 34,
   "id": "boolean-triangle",
   "metadata": {},
   "outputs": [
    {
     "data": {
      "image/png": "[encoded data removed]",
      "text/plain": [
       "<Figure size 720x504 with 1 Axes>"
      ]
     },
     "metadata": {
      "needs_background": "light"
     },
     "output_type": "display_data"
    }
   ],
   "source": [
    "profil_vitesse = np.loadtxt(\"profil_vitesse_z.txt\")\n",
    "\n",
    "z = profil_vitesse[:,0]\n",
    "u_x_a = profil_vitesse[:,1]\n",
    "u_B = -Q/W/h_B\n",
    "u_x_b = np.full_like(profil_vitesse[:,1], u_B)\n",
    "\n",
    "plt.figure(figsize = (10,7))\n",
    "plt.plot(z, -u_x_a, label = \"Section A\")\n",
    "plt.plot(z, -u_x_b, label = \"Section B\")\n",
    "plt.xlabel(\"$z$\")\n",
    "plt.ylabel(\"$-u$\")\n",
    "plt.title(\"Profils de vitesse (valeurs absolues)\")\n",
    "plt.legend()\n",
    "plt.show()"
   ]
  },
  {
   "cell_type": "markdown",
   "id": "brown-newport",
   "metadata": {},
   "source": [
    "***\n",
    "\n",
    "**Question (3)** Écrire le théorème de conservation de la quantité de mouvement\n",
    "sous forme intégrale en régime permanent et considérer sa projection\n",
    "sur l’axe Ax. Dans un premier temps, on négligera le frottement sur les\n",
    "parois."
   ]
  },
  {
   "cell_type": "markdown",
   "id": "current-brazilian",
   "metadata": {},
   "source": [
    "**Réponse :**\n",
    "\n",
    "*Théorème de la conservation de la quantité de mouvement :*\n",
    "$$\n",
    "\\frac{\\mathrm{d}}{\\mathrm{d} t} \\int_{V} \\varrho \\boldsymbol{u} \\mathrm{d} V+\\int_{S} \\varrho \\boldsymbol{u}(\\boldsymbol{u} \\cdot \\boldsymbol{n}) \\mathrm{d} S=\\varrho V \\boldsymbol{g}+\\int_{S} \\boldsymbol{\\sigma} \\cdot \\boldsymbol{n} \\mathrm{d} S\n",
    "$$\n",
    "\n",
    "On projete le théorème sur x:\n",
    "\n",
    "$$\n",
    "\\frac{\\mathrm{d}}{\\mathrm{d} t} \\int_{V} \\rho u_x \\mathrm{d} V - \\int_{S_A} \\rho u_{x,A}^2 \\mathrm{d}s + \\int_{S_B} \\rho u_{x,B}^2 \\mathrm{d}s = 0 + P_{h, A} - P_{h, B} - F_{M}\n",
    "$$ Avec :\n",
    "- $P_{h, A}$ et $P_{h, B}$ les résultantes des pressions hydrostatique sur les sections respectivement en A et en B.\n",
    "- $F_M$ la composante motrice du poids.\n",
    "\n",
    "Comme l'écoulement est permanent, nous avons :\n",
    " $$ \\frac{\\mathrm{d}}{\\mathrm{d} t} \\int_{V} \\rho u_x \\mathrm{d} V = 0 $$\n",
    " \n",
    "Et donc :\n",
    "$$\n",
    "-\\int_{S_A} \\rho u_{x,A}^2 \\mathrm{d}s + \\int_{S_B} \\rho u_{x,B}^2 \\mathrm{d}s = P_{h, A} - P_{h, B} - F_{M}\n",
    "$$"
   ]
  },
  {
   "cell_type": "markdown",
   "id": "advance-inspector",
   "metadata": {},
   "source": [
    "***\n",
    "\n",
    "**Question (4)**  Exprimer la force de pression et le flux de quantité de mouvement\n",
    "pour la section B. Faire l’application numérique. Faire la même chose\n",
    "pour la section passant par A."
   ]
  },
  {
   "cell_type": "markdown",
   "id": "finite-photograph",
   "metadata": {},
   "source": [
    "**Réponse :**\n",
    "\n",
    "- Force de pression en B : $$P_{h, B} = W * \\rho * g * \\frac{h_B^2}{2}$$\n",
    "- Résultante du flux de quantité de mouvement en B : $$\\mathscr{F}_B = \\int_{S_B} \\rho u_{x,B}^2 \\mathrm{d}s = \\left ( W * h_B \\right ) * \\rho * u_B^2$$ ($u$ est considéré uniforme en B)\n",
    "- Force de pression en A : (Voir **(1)**)$$P_{h, A} = (W-b) * \\rho * g * \\frac{h_B^2}{2}$$ \n",
    "- Résultante du flux de quantité de mouvement en A :  $$\\mathscr{F}_A = \\int_{S_A} \\rho u_{x,A}^2 \\mathrm{d}s = h_A * \\rho * \\int_0^W u_{x, A}^2 \\mathrm{d}z$$ (on considère $u$ uniforme selon y)"
   ]
  },
  {
   "cell_type": "code",
   "execution_count": 170,
   "id": "preliminary-bankruptcy",
   "metadata": {},
   "outputs": [
    {
     "name": "stdout",
     "output_type": "stream",
     "text": [
      "Pression hydrostatique en B : 84.0 N\n",
      "Flux en B (Résultante) : 108 N\n",
      "Pression hydrostatique en A : 929 N\n",
      "Flux en A (Résultante) : 119 N\n"
     ]
    }
   ],
   "source": [
    "P_h_B = W * rho *g * h_B**2 /2\n",
    "print(f\"Pression hydrostatique en B : {P_h_B:.1f} N\")\n",
    "Flux_B = W * h_B * rho * u_B**2\n",
    "print(f\"Flux en B (Résultante) : {Flux_B:.0f} N\")\n",
    "# On a déjà P_h_A\n",
    "print(f\"Pression hydrostatique en A : {P_h_A:.0f} N\")\n",
    "Flux_A = h_A * rho * np.trapz(u_x_a**2, z)\n",
    "print(f\"Flux en A (Résultante) : {Flux_A:.0f} N\")"
   ]
  },
  {
   "cell_type": "markdown",
   "id": "personal-creativity",
   "metadata": {},
   "source": [
    "***\n",
    "\n",
    "**Question (5)** : Estimer la composante motrice du poids. Comparer la résultante\n",
    "des forces (pression + flux de quantité de mouvement + force motrice).\n",
    "Est-ce que les écarts peuvent s’expliquer par le frottement sur les parois\n",
    "(que l’on a négligé) ?"
   ]
  },
  {
   "cell_type": "markdown",
   "id": "three-effectiveness",
   "metadata": {},
   "source": [
    "**Réponse :**\n",
    "\n",
    "On estime la composante motrice du poids comme étant la partie horizontale de la réaction du sol. On obtient : $$F_M = i*P = i* V * \\rho *g = i * g * \\rho * W* \\frac{(h_A + h_B) * x_B}{2}$$\n",
    "\n",
    "*Application numérique :*"
   ]
  },
  {
   "cell_type": "code",
   "execution_count": 171,
   "id": "reverse-revolution",
   "metadata": {},
   "outputs": [
    {
     "name": "stdout",
     "output_type": "stream",
     "text": [
      "Composante motrice du poids : 1.11 kN\n"
     ]
    }
   ],
   "source": [
    "F_M = i*g*rho*W*(h_A + h_B)*x_ressaut / 2\n",
    "print(f\"Composante motrice du poids : {F_M * 1e-3:.2f} kN\")"
   ]
  },
  {
   "cell_type": "markdown",
   "id": "sized-connection",
   "metadata": {},
   "source": [
    "La résultante des forces vaut :\n",
    "$$\n",
    "R_f =  P_{h,A} - F_M - P_{h, B} \n",
    "$$\n",
    "\n",
    "Or, pour expliquer les changements de la quantité de mouvement, il faudrait une force de:\n",
    "$$\n",
    "R_{p} = -\\mathscr{F}_A +\\mathscr{F}_B \n",
    "$$\n",
    "\n",
    "*Application numérique :*"
   ]
  },
  {
   "cell_type": "code",
   "execution_count": 172,
   "id": "incorporate-samuel",
   "metadata": {},
   "outputs": [
    {
     "name": "stdout",
     "output_type": "stream",
     "text": [
      "Résultante des forces : -261 N\n",
      "Résultante des flux : -10.8 N\n",
      "Différence (valeur absolue) : 250 N\n"
     ]
    }
   ],
   "source": [
    "R = P_h_A -F_M - P_h_B\n",
    "R_p = Flux_B - Flux_A\n",
    "print(f\"Résultante des forces : {R:.0f} N\")\n",
    "print(f\"Résultante des flux : {R_p:.1f} N\")\n",
    "print(f\"Différence (valeur absolue) : {np.abs(R-R_p):.0f} N\")"
   ]
  },
  {
   "cell_type": "markdown",
   "id": "framed-hydrogen",
   "metadata": {},
   "source": [
    "Oui, l'écart peut s'expliquer par les forces de frottement, en première approximation."
   ]
  },
  {
   "cell_type": "markdown",
   "id": "exceptional-wonder",
   "metadata": {},
   "source": [
    "***\n",
    "\n",
    "**Question (6)** Le profil de hauteur mesurée expérimentalement le long de Ax\n",
    "est disponible à partir du fichier ```profil_hauteur_x.txt``` ; on dispose\n",
    "aussi du profil de hauteur le long de l’ouvrage-fente selon z (il faut se reporter au fichier ```profil_hauteur_z.txt```). Tracer les profils de hauteur\n",
    "expérimental et théorique pour les directions x et z. Que pensez-vous\n",
    "de l’accord entre théorie et expérience ?\n",
    "\n",
    "**Réponse :**"
   ]
  },
  {
   "cell_type": "code",
   "execution_count": 173,
   "id": "after-dance",
   "metadata": {},
   "outputs": [
    {
     "data": {
      "image/png": "[encoded data removed]",
      "text/plain": [
       "<Figure size 1296x432 with 2 Axes>"
      ]
     },
     "metadata": {
      "needs_background": "light"
     },
     "output_type": "display_data"
    }
   ],
   "source": [
    "draw_h3()"
   ]
  },
  {
   "cell_type": "markdown",
   "id": "celtic-relationship",
   "metadata": {},
   "source": [
    "Sur le profil selon x, on observe une certaine différence. En effet, la hauteur sur le tronçon AB est plus haute que prévu. De plus, on observe que la hauteur d'eau sur le tronçon CD est bien en dessous de la hauteur critique, comme dans le problème 1. Le ressaut par contre est moins marqué (voire inexistant). Peut-être cela est-ce dû à une mauvaise estimation des forces de frottement. Sur ce profil, la théorie était donc assez mauvaise pour prédire la réalité.\n",
    "\n",
    "Sur le profil selon z, on observe que la hauteur calculée théoriquement ($h_A$) correspond à la moyenne de la hauteur sur cette portion. Mais on peut estimer qu'il y a ici une certaine adéquation entre la théorie et l'expérience."
   ]
  },
  {
   "cell_type": "markdown",
   "id": "small-postcard",
   "metadata": {},
   "source": [
    "***\n",
    "\n",
    "**Question (7)** Faire une estimation du terme de frottement. On pourra donner les bornes attendues de variation en considérant que le frottement s’exerce uniquement sur le fond (hypothèse d’un canal infiniment large) ou bien sur tout le périmètre mouillé (fond + parois latérales). On négligera les pertes de charge singulière au passage de la fente.\n"
   ]
  },
  {
   "cell_type": "markdown",
   "id": "detailed-amount",
   "metadata": {},
   "source": [
    "**Réponse :**\n",
    "\n",
    "On prend la loi de Manning-Strickler pour estimer le terme de frottement :\n",
    "$$\n",
    "    \\tau_{p}= \\frac{\\rho g}{K^{2}} \\frac{\\bar{u}^{2}}{R_{H}^{1 / 3}}\n",
    "$$"
   ]
  },
  {
   "cell_type": "markdown",
   "id": "nervous-trance",
   "metadata": {},
   "source": []
  },
  {
   "cell_type": "markdown",
   "id": "basic-gallery",
   "metadata": {},
   "source": [
    "## Annexe : Fichier helpers.py"
   ]
  },
  {
   "cell_type": "code",
   "execution_count": 167,
   "id": "placed-samba",
   "metadata": {},
   "outputs": [],
   "source": [
    "# helpers.py\n",
    "# Fonctions pour l'examen intermédiaire 2021 de mécanique des Fluides pour GC\n",
    "# Par Julien Marie F Ars\n",
    "\n",
    "import numpy as np\n",
    "import matplotlib.pyplot as plt\n",
    "\n",
    "\n",
    "## Problème 1, ex 5\n",
    "\n",
    "def H_star(x):\n",
    "    return x + 1/(2*x**2)\n",
    "        \n",
    "def get_H_S(h, h_c):\n",
    "    return h_c * H_star(h/h_c)\n",
    "\n",
    "def plot_h_S(h_c, name = \"\", limits = (1,1), subplot = 111) :\n",
    "    xi = np.linspace(0,8,1000)[1:]\n",
    "    filter = np.bitwise_and(xi*h_c < limits[0], H_star(xi)*h_c < limits[1])\n",
    "    \n",
    "    plt.subplot(subplot)\n",
    "    plt.plot(xi[filter]*h_c, H_star(xi)[filter] * h_c, label=f\"$H_S(h)$, {name}\")\n",
    "    \n",
    "    plt.xlabel(\"$h$\")\n",
    "    plt.ylabel(\"$H_S$\")\n",
    "    plt.title(f\"$H_S(h)$\")\n",
    "\n",
    "def plot_points(h, labels, h_c):\n",
    "    h = np.array(h)\n",
    "    H_S = get_H_S(h, h_c)\n",
    "    print(\"\".join([f\"Point {name} : \\th: {h*100:.0f} cm, Charge spécifique H_S : {H_S*100:.0f} cm\\n\" for name, h, H_S in zip(labels, h, H_S)]))\n",
    "    \n",
    "    ax = plt.gca()\n",
    "    [ax.plot(h, H_S, \"o\", label=name) for name, h, H_S in zip(labels, h, H_S)]\n",
    "    ax.legend()\n",
    "    \n",
    "# Problème 1, ex 6\n",
    "def h1(x):\n",
    "    h_AB = h_A - i*x\n",
    "    h_CD = h_n_amont\n",
    "    try : #if numpy\n",
    "        len(x)\n",
    "        h = np.zeros_like(x)\n",
    "        h[x<x_ressaut] = h_AB[x<x_ressaut]\n",
    "        h[x>=x_ressaut] = h_CD\n",
    "    except: #if not numpy\n",
    "        if x<x_ressaut:\n",
    "            h = h_AB\n",
    "        else:\n",
    "            h = h_CD\n",
    "    return h\n",
    "\n",
    "def draw_h(h = h1, figsize = (10, 5)):\n",
    "    x = np.linspace(0,100, 10000)\n",
    "    \n",
    "    plt.figure(figsize = figsize)\n",
    "    plt.plot(x, x*i, label = \"Fond\")\n",
    "    plt.plot(x, x*i+h(x), label = \"Surface de l'eau\")\n",
    "    plt.plot(x, x*i+np.full_like(x, h_c_canal), \"--\", label = \"Hauteur critique canal\")\n",
    "    plt.plot(x, x*i+np.full_like(x, h_c_fente), \"--\", label = \"Hauteur critique fente\")\n",
    "    plt.xlabel('$x$ (m)')\n",
    "    plt.ylabel('$y$ (m)')\n",
    "    \n",
    "    plt.legend()\n",
    "    plt.show()\n",
    "    \n",
    "## Problème 2\n",
    "    \n",
    "def draw_h2(x, h2, h1=h1, figsize = (10,5)):\n",
    "    plt.figure(figsize = figsize)\n",
    "    plt.plot(x, x*i, label = \"Fond\")\n",
    "    plt.plot(x, x*i+np.full_like(x, h_c_canal), \"--\", alpha = 0.5, label = \"Hauteur critique canal\")\n",
    "    plt.plot(x, x*i+h1(x), label = \"Surface de l'eau (problème 1)\")\n",
    "    plt.plot(x, x*i+h2, label = \"Surface de l'eau (problème 2)\")\n",
    "    plt.xlabel('$x$ (m)')\n",
    "    plt.ylabel('$y$ (m)')\n",
    "    \n",
    "    plt.legend()\n",
    "    plt.show()\n",
    "    \n",
    "    \n",
    "## Problème 3, Question (6)\n",
    "    \n",
    "def draw_h3():\n",
    "    profil_hauteur_x = np.loadtxt(\"profil_hauteur_x.txt\").T\n",
    "    profil_hauteur_z = np.loadtxt(\"profil_hauteur_z.txt\").T\n",
    "    x = profil_hauteur_x[0]\n",
    "    profil_x = profil_hauteur_x[1]\n",
    "    z = profil_hauteur_z[0]\n",
    "    profil_z = profil_hauteur_z[1]\n",
    "    \n",
    "    profil_z_theorique = np.full_like(z, h_A) # On considère h_A comme hauteur théorique\n",
    "    #profil_z_theorique[np.bitwise_and(0.2 <z, z<0.3)] = h_c_fente\n",
    "    \n",
    "    #-- selon x\n",
    "    \n",
    "    plt.figure(figsize=(18,6))\n",
    "    ax = plt.subplot(1,3,(1,2))\n",
    "    \n",
    "    plt.title(\"Profil de la hauteur selon x\")\n",
    "    plt.plot(x, i*x, label = \"Fond\")\n",
    "    plt.plot(x, profil_x, label=\"Expérimental\")\n",
    "    plt.plot(x, h1(x)+i*x, label=\"Théorique - P1\")\n",
    "    plt.plot(globals()[\"x\"], h2+i*globals()[\"x\"], label = \"Théorique - P2\")\n",
    "    plt.plot(x, h_c_canal+i*x,\":\", alpha=0.5, label = \"Hauteur critique\")\n",
    "    \n",
    "    plt.ylim([0,1])\n",
    "    ax.yaxis.set_major_locator(MaxNLocator(nbins=10))\n",
    "    ax.yaxis.set_major_formatter('{x:.2f}')\n",
    "    ax.yaxis.set_minor_locator(AutoMinorLocator())\n",
    "    plt.grid(which=\"major\", axis=\"y\", alpha=0.8)\n",
    "    plt.grid(which=\"minor\", axis=\"y\", alpha=0.2)\n",
    "    \n",
    "    plt.xlabel(\"$x$ (m)\")\n",
    "    plt.ylabel(\"$y$ (m)\")\n",
    "    plt.legend()\n",
    "    \n",
    "    #-- selon z\n",
    "    \n",
    "    ax = plt.subplot(1,3,3)\n",
    "    plt.title(\"Profil de la hauteur selon z\")\n",
    "    plt.plot(z, np.zeros_like(z), label = \"Fond\")\n",
    "    plt.plot(z, profil_z, label=\"Expérimental\")\n",
    "    plt.plot(z, profil_z_theorique, label=\"Théorique\")\n",
    "    plt.ylim([0,1])\n",
    "    \n",
    "    plt.ylim([0,1])\n",
    "    ax.yaxis.set_major_locator(MaxNLocator(nbins=10))\n",
    "    ax.yaxis.set_major_formatter('{x:.2f}')\n",
    "    ax.yaxis.set_minor_locator(AutoMinorLocator())\n",
    "    plt.grid(which=\"major\", axis=\"both\", alpha=0.8)\n",
    "    plt.grid(which=\"minor\", axis=\"y\", alpha=0.2)\n",
    "    ax.yaxis.tick_right()\n",
    "    \n",
    "    plt.xlabel(\"$z$ (m)\")\n",
    "    plt.ylabel(\"$y$ (m)\")\n",
    "    plt.legend()\n",
    "    plt.tight_layout()\n",
    "    plt.show()"
   ]
  },
  {
   "cell_type": "code",
   "execution_count": null,
   "id": "working-freeware",
   "metadata": {},
   "outputs": [],
   "source": []
  }
 ],
 "metadata": {
  "kernelspec": {
   "display_name": "Python 3",
   "language": "python",
   "name": "python3"
  },
  "language_info": {
   "codemirror_mode": {
    "name": "ipython",
    "version": 3
   },
   "file_extension": ".py",
   "mimetype": "text/x-python",
   "name": "python",
   "nbconvert_exporter": "python",
   "pygments_lexer": "ipython3",
   "version": "3.8.8"
  },
  "toc-autonumbering": false,
  "toc-showcode": false,
  "toc-showmarkdowntxt": false
 },
 "nbformat": 4,
 "nbformat_minor": 5
}
