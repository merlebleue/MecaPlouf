{
 "cells": [
  {
   "cell_type": "markdown",
   "id": "raising-startup",
   "metadata": {},
   "source": [
    "# Examen intermédiaire 2021\n",
    "\n",
    "Julien (Marie F) Ars (314 545) - 7 juin 2021"
   ]
  },
  {
   "cell_type": "markdown",
   "id": "composite-affiliation",
   "metadata": {},
   "source": [
    "## Données générales"
   ]
  },
  {
   "cell_type": "markdown",
   "id": "racial-print",
   "metadata": {},
   "source": [
    "Un canal en béton armé transporte de l’eau avec un débit $Q = 100 L/s$.\n",
    "Il a une pente de $i = 1\\%$. Il a une section rectangulaire de hauteur $1 m$ et\n",
    "de largeur $W = 50 cm$. En un point $A$ – ici de coordonnées $(0, 0)$ dans le\n",
    "repère $Axy$ de la figure 1 – il y a un ouvrage-fente (slit dam) : il s’agit d’un\n",
    "mur droit qui occupe toute la largeur du canal. Une fente le parcourt sur\n",
    "toute sa hauteur ; elle a une largeur $b = 10cm$ et elle est centrée par rapport à l’axe\n",
    "du canal (voir figure 1). Au pied de la fente (côté aval), il y a une marche\n",
    "verticale de pelle $p$. Le canal continue avec la même pente. Le coefficient de\n",
    "Manning-Strickler du béton est $K = 55 m^{1/3}/s$."
   ]
  },
  {
   "cell_type": "code",
   "execution_count": 1,
   "id": "funded-punch",
   "metadata": {},
   "outputs": [],
   "source": [
    "#Encodage des données en python\n",
    "Q = 100e-3 #conversion L/s en m³/s\n",
    "i=1e-2 #1%\n",
    "W=50e-2 #conversion cm en m\n",
    "K = 55 #m^(1/3)/s\n",
    "b= 10e-2 #m\n",
    "g = 9.81 #m / s^2"
   ]
  },
  {
   "cell_type": "markdown",
   "id": "improving-minister",
   "metadata": {},
   "source": [
    "L’eau arrive par la droite sur la figure 1(a). Compte tenu de la pente,\n",
    "on suppose en première approximation que le régime est supercritique dans\n",
    "la partie amont du bief. Le passage de la fente conduit à un ralentissement\n",
    "significatif de l’écoulement. Le régime est attendu être subcritique à l’amont\n",
    "immédiat de la fente. De ce fait, on suppose qu’il se forme un ressaut hydraulique noté $BC$ sur la figure 1. Compte tenu du fort rétrécissement et de\n",
    "la marche, l’écoulement est supposé devenir critique au point A. (Par commodité de notation, on pourra appeler $A’$ le point $A$ quand il est dans la\n",
    "fente de largeur $b$, et garder la notation A quand il est du côté du canal avec\n",
    "une largeur $W$). En résumé, une analyse simplifiée conduit à considérer qu’en\n",
    "première approximation, lorsque l’on va de l’amont vers l’aval (de la droite\n",
    "vers la gauche sur la figure 1(a)), on a un écoulement permanent uniforme\n",
    "entre $D$ et $C$, puis un ressaut entre $C$ et $B$, et enfin une zone d’écoulement\n",
    "subcritique avec une surface libre horizontale.\n"
   ]
  },
  {
   "cell_type": "markdown",
   "id": "extended-criminal",
   "metadata": {},
   "source": [
    "<img src=\"figure 1.png\" alt=\"Drawing\" style=\"width: 600px;\"/>\n"
   ]
  },
  {
   "cell_type": "markdown",
   "id": "adequate-combine",
   "metadata": {},
   "source": [
    "## Problème 1 :"
   ]
  },
  {
   "cell_type": "markdown",
   "id": "otherwise-annual",
   "metadata": {},
   "source": [
    "On s’intéresse au comportement hydraulique de l’ouvrage. Dans un\n",
    "premier temps (pour tout ce problème), on néglige les effets des parois\n",
    "latérales, et on suppose donc que le rayon hydraulique $R_h$ varie comme\n",
    "la hauteur d’eau $h$ dans le canal. On néglige les pertes de charge au\n",
    "passage de la fente."
   ]
  },
  {
   "cell_type": "markdown",
   "id": "lucky-visiting",
   "metadata": {},
   "source": [
    "**(1)** Si l’écoulement est critique au passage de la fente (en $A$), montrer que la charge spécifique en $A$ : $$H_S = \\frac{3}{2} * \\sqrt[3]{\\frac{Q^2}{gb^2}}$$"
   ]
  },
  {
   "cell_type": "markdown",
   "id": "japanese-privacy",
   "metadata": {},
   "source": [
    "**Réponse :**"
   ]
  },
  {
   "cell_type": "markdown",
   "id": "recent-oklahoma",
   "metadata": {},
   "source": [
    "Si l'écoulement est critique en $A$, on a que $Fr = 1$. Ce qui donne : $$\\frac{u}{\\sqrt{gh}} = 1 \\Rightarrow h = \\frac{u^2}{g}$$\n",
    "Par ailleurs, on a que $u = \\frac{Q}{S}$, avec $S = bh = b\\frac{u^2}{g}$. On en déduit : $$u=\\frac{Qg}{bu^2} \\Rightarrow u^3 = \\frac{Qg}{b}$$\n",
    "\n",
    "Il en ressort que la Hauteur Spécifique, $H_S = h + \\frac{u^2}{g}$ vaut en A : $$H_{S,A} = h + \\frac{u^2}{2g} = \\frac{3}{2}\\frac{u^2}{g} = \\frac{3}{2g} \\left ( \\frac{Q^2g^2}{b^2} \\right )^{3/2} = \\frac{3}{2} \\sqrt[3]{\\frac{Q^2}{b^2g}}$$"
   ]
  },
  {
   "cell_type": "markdown",
   "id": "radio-mauritius",
   "metadata": {},
   "source": [
    "**(2)**  Calculer la hauteur normale dans le bief amont (on suppose que\n",
    "$h_n = h_C = h_D$) avec l’hypothèse d’un canal infiniment large.\n",
    "\n",
    "**Réponse :**"
   ]
  },
  {
   "cell_type": "markdown",
   "id": "authentic-nepal",
   "metadata": {},
   "source": [
    "Dans le cas d'un canal infiniment large, on peut appliquer la formule : $$h_n = \\left ( \\frac{q}{K\\sqrt{i}} \\right )^{3/5}$$"
   ]
  },
  {
   "cell_type": "markdown",
   "id": "romantic-madison",
   "metadata": {},
   "source": [
    "Ce qui donne dans notre cas, avec $q = \\frac{Q}{W}$ : $$h_{n, amont} = \\left ( \\frac{Q}{WK\\sqrt{i}} \\right )^{3/5}$$"
   ]
  },
  {
   "cell_type": "markdown",
   "id": "interstate-bedroom",
   "metadata": {},
   "source": [
    "*Application numérique :*"
   ]
  },
  {
   "cell_type": "code",
   "execution_count": 2,
   "id": "public-adapter",
   "metadata": {},
   "outputs": [
    {
     "name": "stdout",
     "output_type": "stream",
     "text": [
      "Hauteur normale en amont : 14 cm\n"
     ]
    }
   ],
   "source": [
    "h_n_amont = (Q/(W*K*i**0.5))**0.6\n",
    "print(f\"Hauteur normale en amont : {h_n_amont*100:.0f} cm\")"
   ]
  },
  {
   "cell_type": "markdown",
   "id": "empty-elite",
   "metadata": {},
   "source": [
    "**(3)** Calculer la hauteur du ressaut $h_B$ en $B$ (qui est la hauteur conjuguée de $h_C$)\n",
    "\n",
    "**Réponse :**"
   ]
  },
  {
   "cell_type": "markdown",
   "id": "directed-limitation",
   "metadata": {},
   "source": [
    "On décide d'appliquer la formule suivante : $$\\frac{h_B}{h_{amont}} = \\frac{1}{2} \\left ( \\sqrt{1+ 8Fr_1^2}-1 \\right ) $$\n",
    "\n",
    "En effet, les conditions sont réunies pour qu'elle soit applicable :\n",
    "* le fond est peu rugueux et de pente négligeable\n",
    "* l'écoulement est permanent (avec $q=Q/W$), unidirectionnel\n",
    "* Le ressaut est immobile\n",
    "* La pression est hydrostatique loin du ressaut\n",
    "* Le profil de vitesse est uniforme\n",
    "* L'effet des parois est négligé (on néglige le frottement $\\tau_p$)\n",
    "\n",
    "On a donc ($h_{amont} = h_{n, amont}$ car l'écoulement y est permanent uniforme): $$h_B = \\frac{h_{n,amont}}{2} \\left ( \\sqrt{1+ 8Fr_1^2}-1 \\right ) $$\n",
    "\n",
    "Le nombre de Froude se calcule avec la formule suivante : $$Fr_1 = \\frac{u}{\\sqrt{gh}} = \\frac{q}{\\sqrt{gh_{amont}^3}}$$\n",
    "\n",
    "*Application numérique :*"
   ]
  },
  {
   "cell_type": "code",
   "execution_count": 3,
   "id": "fundamental-angel",
   "metadata": {},
   "outputs": [
    {
     "name": "stdout",
     "output_type": "stream",
     "text": [
      "Fr_1 = 1.3 et h_B = 19 cm\n"
     ]
    }
   ],
   "source": [
    "q= Q/W\n",
    "Fr_1 = q / (g * h_n_amont**3)**0.5\n",
    "h_B = h_n_amont / 2 * ((1+8*Fr_1**2)**0.5 - 1)\n",
    "print(f\"Fr_1 = {Fr_1:.1f} et h_B = {h_B*100:.0f} cm\")"
   ]
  },
  {
   "cell_type": "markdown",
   "id": "reported-quest",
   "metadata": {},
   "source": [
    "**(4)** Calculer la hauteur d’eau juste en amont de la fente (au point A, avant le passage à la hauteur critique)\n",
    "\n",
    "**Réponse :**"
   ]
  },
  {
   "cell_type": "markdown",
   "id": "thousand-atlas",
   "metadata": {},
   "source": [
    "Observons que :\n",
    "* L'écoulement est permanent\n",
    "* L'eau est incompressible\n",
    "* On néglige les pertes d'énergies (l'effet des parois est négligé)\n",
    "\n",
    "Nous pouvons alors appliquer le théorème de Bernoulli. Appliqué entre le point B et un point à la surface de l'eau au dessus de A (au milieu du bief) que nous appellerons $A''$ nous en déduisons que : $$ \\psi_{A''} = \\rho g z_{A''} + \\rho \\frac{u_{A''}^2}{2}+p_{A''} = \\psi_{B} = \\rho g z_{B} + \\rho \\frac{u_{B}^2}{2}+p_{B}$$\n",
    "\n",
    "Etant donné que la surface libre est horizontale nous avons $z_{A''} = z_{B}$. De plus, à la surface libre, $p_{A''} = p_B = p_a$. Nous avons donc : $$u_{A''} = u_B$$\n",
    "\n",
    "Notons que ce résultat est répétable pour deux points à la verticale respectivement de A et de B (après le remous) se trouvant sur la même ligne de courant. Le profil de vitesse est donc pareil qu'en B, et nous l'assumerons uniforme.\n",
    "\n",
    "Comme le débit et la vitesse sont égaux entre le remous et la fente, nous pouvons en déduire que : $$S_A = S_B$$\n",
    "\n",
    "Dès lors, nous avons : $$h_A = \\frac{W}{b} h_B$$\n",
    "\n",
    "*Application numérique :*"
   ]
  },
  {
   "cell_type": "code",
   "execution_count": 4,
   "id": "structured-criticism",
   "metadata": {},
   "outputs": [
    {
     "name": "stdout",
     "output_type": "stream",
     "text": [
      "Hauteur en A (juste en amont de la fente) : 93 cm\n"
     ]
    }
   ],
   "source": [
    "h_A = W / b * h_B\n",
    "print(f\"Hauteur en A (juste en amont de la fente) : {h_A*100:.0f} cm\")"
   ]
  },
  {
   "cell_type": "markdown",
   "id": "individual-study",
   "metadata": {},
   "source": [
    "**(5)** Tracer les courbes de charge spécifique $H_s(h)$ pour l’écoulement\n",
    "dans le canal et celle à travers la fente. Positionner les points A, B, C,\n",
    "et D. En déduire la position du ressaut. "
   ]
  },
  {
   "cell_type": "markdown",
   "id": "pointed-addiction",
   "metadata": {},
   "source": [
    "**Réponse :**\n",
    "\n",
    "Avec $H_* = \\frac{H_S}{h_c}$ et $\\xi = \\frac{h}{h_c}$, nous savons que (résultat du cours): $$H_* = \\xi + \\frac{1}{2\\xi^2}$$\n",
    "\n",
    "De plus, nous avons $h_c = \\left [ h \\right ]_{Fr = 1} = \\sqrt[3]{\\frac{q^2}{g}}$ (section rectangulaire, voir question **(1)** pour détail des calculs), et donc : $$ h_{c, canal} = \\sqrt[3]{\\frac{Q^2}{W^2g}} $$ $$ h_{c, fente} = \\sqrt[3]{\\frac{Q^2}{b^2g}}$$\n",
    "\n",
    "*Application numérique :*"
   ]
  },
  {
   "cell_type": "code",
   "execution_count": 5,
   "id": "therapeutic-montana",
   "metadata": {},
   "outputs": [
    {
     "name": "stdout",
     "output_type": "stream",
     "text": [
      "Hauteurs critiques : \n",
      "Canal : 16 cm \t Fente : 47 cm\n"
     ]
    }
   ],
   "source": [
    "#Calcul des hauteurs critiques\n",
    "h_c_canal = (Q**2 / W**2 / g)**(1/3)\n",
    "h_c_fente = (Q**2 / b**2 / g)**(1/3)\n",
    "print(f\"Hauteurs critiques : \\nCanal : {h_c_canal*100:.0f} cm \\t Fente : {h_c_fente*100:.0f} cm\")"
   ]
  },
  {
   "cell_type": "markdown",
   "id": "facial-directory",
   "metadata": {},
   "source": [
    "*Graphiques :*"
   ]
  },
  {
   "cell_type": "code",
   "execution_count": 6,
   "id": "recreational-crystal",
   "metadata": {},
   "outputs": [],
   "source": [
    "#imports pour les graphiques\n",
    "import numpy as np\n",
    "import matplotlib.pyplot as plt\n",
    "from Examen2021inter.helpers import plot_h_S, get_H_S, plot_points #code en annexe, fonctions définies à part pour dégager le code"
   ]
  },
  {
   "cell_type": "code",
   "execution_count": 7,
   "id": "controlling-allah",
   "metadata": {},
   "outputs": [
    {
     "name": "stdout",
     "output_type": "stream",
     "text": [
      "Point B : h:19 cm, H_S:24\n",
      "Point C et D : h:14 cm, H_S:25\n",
      "\n"
     ]
    },
    {
     "data": {
      "image/png": "[encoded data removed]",
      "text/plain": [
       "<Figure size 720x360 with 1 Axes>"
      ]
     },
     "metadata": {
      "needs_background": "light"
     },
     "output_type": "display_data"
    }
   ],
   "source": [
    "plt.figure(figsize = (10,5))\n",
    "\n",
    "## Canal\n",
    "#  -----\n",
    "plt.subplot(121)\n",
    "plot_h_S(h_c_canal, \"canal\")\n",
    "# Points : B, C, D\n",
    "plot_points([h_B, h_n_amont], [\"B\", \"C et D\"], h_c_canal)\n",
    "\n",
    "## Fente\n",
    "plt.subplot(221)\n",
    "plot_h_S(h_c_fente, \"fente\")\n",
    "# Points : A\n",
    "plot_points([h_A], [\"A\"], h_c_fente)"
   ]
  },
  {
   "cell_type": "code",
   "execution_count": null,
   "id": "conditional-print",
   "metadata": {},
   "outputs": [],
   "source": []
  }
 ],
 "metadata": {
  "kernelspec": {
   "display_name": "Python 3",
   "language": "python",
   "name": "python3"
  },
  "language_info": {
   "codemirror_mode": {
    "name": "ipython",
    "version": 3
   },
   "file_extension": ".py",
   "mimetype": "text/x-python",
   "name": "python",
   "nbconvert_exporter": "python",
   "pygments_lexer": "ipython3",
   "version": "3.8.8"
  }
 },
 "nbformat": 4,
 "nbformat_minor": 5
}
